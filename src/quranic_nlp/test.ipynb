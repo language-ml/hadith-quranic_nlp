{
 "cells": [
  {
   "cell_type": "code",
   "execution_count": 2,
   "metadata": {},
   "outputs": [],
   "source": [
    "import pandas as pd\n",
    "import utils\n",
    "\n",
    "df = pd.read_csv(utils.MORPHOLOGY)"
   ]
  },
  {
   "cell_type": "code",
   "execution_count": 18,
   "metadata": {},
   "outputs": [
    {
     "name": "stdout",
     "output_type": "stream",
     "text": [
      "0.0027360916137695312\n"
     ]
    }
   ],
   "source": [
    "import time\n",
    "s = time.time()\n",
    "df[(df['soure'] == 5 - 1) & (df['ayeh'] == 5 - 1)]\n",
    "e = time.time()\n",
    "print(e-s)"
   ]
  },
  {
   "cell_type": "code",
   "execution_count": 19,
   "metadata": {},
   "outputs": [
    {
     "name": "stdout",
     "output_type": "stream",
     "text": [
      "0.06087851524353027\n"
     ]
    }
   ],
   "source": [
    "import time\n",
    "s = time.time()\n",
    "gb_soure = df.groupby('soure')\n",
    "gb_soure = [gb_soure.get_group(x) for x in gb_soure.groups]\n",
    "df2 = gb_soure[5 - 1]\n",
    "\n",
    "gb = df2.groupby('ayeh')\n",
    "gb = [gb.get_group(x) for x in gb.groups]\n",
    "data = gb[5 - 1]\n",
    "e = time.time()\n",
    "print(e-s)"
   ]
  },
  {
   "cell_type": "code",
   "execution_count": null,
   "metadata": {},
   "outputs": [],
   "source": []
  },
  {
   "cell_type": "code",
   "execution_count": 9,
   "metadata": {},
   "outputs": [],
   "source": [
    "from lang_trans.arabic import buckwalter"
   ]
  },
  {
   "cell_type": "code",
   "execution_count": 10,
   "metadata": {},
   "outputs": [],
   "source": [
    "with open('../../data_utils/morphology_0.62.txt') as file:\n",
    "    text = file.read()"
   ]
  },
  {
   "cell_type": "code",
   "execution_count": 11,
   "metadata": {},
   "outputs": [],
   "source": [
    "feature = {'soure':[], 'ayeh':[], 'word':[], 'Tag':[], 'Lemma':[], 'Root':[]}\n",
    "for data in text.split('\\n')[1:]:\n",
    "    ex = data.split('\\t')\n",
    "    location = ex[0][1:-1].split(':')\n",
    "    word = buckwalter.untransliterate(ex[2])\n",
    "    tag = ex[3]\n",
    "    feat = ex[4].split('|')\n",
    "    lemma = ''\n",
    "    root = ''\n",
    "    for f in feat:\n",
    "        if f.startswith('LEM:'):\n",
    "            lemma = buckwalter.untransliterate(f[4:])\n",
    "        if f.startswith('ROOT:'):\n",
    "            root = buckwalter.untransliterate(f[5:])\n",
    "    \n",
    "    feature['soure'].append(location[0])\n",
    "    feature['ayeh'].append(location[1])\n",
    "    feature['word'].append(word)\n",
    "    feature['Tag'].append(tag)\n",
    "    \n",
    "    feature['Lemma'].append(lemma)\n",
    "    feature['Root'].append(root)"
   ]
  },
  {
   "cell_type": "code",
   "execution_count": 14,
   "metadata": {},
   "outputs": [],
   "source": [
    "# pd.DataFrame(feature).to_csv('morphologhy.csv', index=None)"
   ]
  },
  {
   "cell_type": "code",
   "execution_count": 6,
   "metadata": {},
   "outputs": [],
   "source": [
    "import pandas as pd"
   ]
  },
  {
   "cell_type": "code",
   "execution_count": 7,
   "metadata": {},
   "outputs": [],
   "source": [
    "\n",
    "df = pd.read_csv('./data/morphologhy.csv')\n"
   ]
  },
  {
   "cell_type": "code",
   "execution_count": 8,
   "metadata": {},
   "outputs": [],
   "source": [
    "gb_soure = df.groupby('soure')\n",
    "gb_soure = [gb_soure.get_group(x) for x in gb_soure.groups]\n",
    "temp = gb_soure[0]\n",
    "\n",
    "gb = temp.groupby('ayeh')\n",
    "gb = [gb.get_group(x) for x in gb.groups]\n",
    "data = gb[3]"
   ]
  },
  {
   "cell_type": "code",
   "execution_count": 9,
   "metadata": {},
   "outputs": [
    {
     "data": {
      "text/html": [
       "<div>\n",
       "<style scoped>\n",
       "    .dataframe tbody tr th:only-of-type {\n",
       "        vertical-align: middle;\n",
       "    }\n",
       "\n",
       "    .dataframe tbody tr th {\n",
       "        vertical-align: top;\n",
       "    }\n",
       "\n",
       "    .dataframe thead th {\n",
       "        text-align: right;\n",
       "    }\n",
       "</style>\n",
       "<table border=\"1\" class=\"dataframe\">\n",
       "  <thead>\n",
       "    <tr style=\"text-align: right;\">\n",
       "      <th></th>\n",
       "      <th>soure</th>\n",
       "      <th>ayeh</th>\n",
       "      <th>word</th>\n",
       "      <th>Tag</th>\n",
       "      <th>Lemma</th>\n",
       "      <th>Root</th>\n",
       "    </tr>\n",
       "  </thead>\n",
       "  <tbody>\n",
       "    <tr>\n",
       "      <th>18</th>\n",
       "      <td>1</td>\n",
       "      <td>4</td>\n",
       "      <td>مَٰلِكِ</td>\n",
       "      <td>N</td>\n",
       "      <td>مَٰلِك</td>\n",
       "      <td>ملك</td>\n",
       "    </tr>\n",
       "    <tr>\n",
       "      <th>19</th>\n",
       "      <td>1</td>\n",
       "      <td>4</td>\n",
       "      <td>يَوْمِ</td>\n",
       "      <td>N</td>\n",
       "      <td>يَوْم</td>\n",
       "      <td>يوم</td>\n",
       "    </tr>\n",
       "    <tr>\n",
       "      <th>20</th>\n",
       "      <td>1</td>\n",
       "      <td>4</td>\n",
       "      <td>ٱل</td>\n",
       "      <td>DET</td>\n",
       "      <td>NaN</td>\n",
       "      <td>NaN</td>\n",
       "    </tr>\n",
       "    <tr>\n",
       "      <th>21</th>\n",
       "      <td>1</td>\n",
       "      <td>4</td>\n",
       "      <td>دِّينِ</td>\n",
       "      <td>N</td>\n",
       "      <td>دِين</td>\n",
       "      <td>دين</td>\n",
       "    </tr>\n",
       "  </tbody>\n",
       "</table>\n",
       "</div>"
      ],
      "text/plain": [
       "    soure  ayeh     word  Tag   Lemma Root\n",
       "18      1     4  مَٰلِكِ    N  مَٰلِك  ملك\n",
       "19      1     4   يَوْمِ    N   يَوْم  يوم\n",
       "20      1     4       ٱل  DET     NaN  NaN\n",
       "21      1     4   دِّينِ    N    دِين  دين"
      ]
     },
     "execution_count": 9,
     "metadata": {},
     "output_type": "execute_result"
    }
   ],
   "source": [
    "data"
   ]
  },
  {
   "cell_type": "code",
   "execution_count": null,
   "metadata": {},
   "outputs": [],
   "source": []
  },
  {
   "cell_type": "code",
   "execution_count": null,
   "metadata": {},
   "outputs": [],
   "source": []
  },
  {
   "cell_type": "code",
   "execution_count": 1,
   "metadata": {},
   "outputs": [
    {
     "name": "stdout",
     "output_type": "stream",
     "text": [
      "بِسْمِ اللَّهِ الرَّحْمَنِ الرَّحِیمِ \n",
      "بِسْمِ اللَّهِ الرَّحْمَـٰنِ الرَّحِيمِ\n",
      "فاتحه\n",
      "1\n",
      "63\n",
      "['27#30', '1#3', '55#1', '41#2', '2#163', '59#22', '11#41', '12#92', '7#151', '24#20', '44#42', '6#118', '36#5', '26#191', '26#175', '26#159', '26#140', '26#122', '26#104', '26#68', '26#9', '26#217', '20#5', '19#88', '21#83', '24#10', '25#60', '15#49', '12#64', '19#93', '2#192', '4#96', '4#106', '30#5', '32#6', '9#99', '6#121', '78#37', '19#91', '22#34', '2#218', '19#85', '41#32', '22#28', '12#98', '19#96', '20#8', '19#18', '5#4', '2#64', '39#53', '22#40', '5#74', '3#157', '10#58', '52#28', '22#36', '19#78', '43#84', '50#33', '6#119', '5#98', '17#110', '19#87', '21#26', '9#27', '36#58', '49#10', '26#5', '16#18', '9#104', '7#180', '6#138', '3#129', '23#118', '7#49', '67#29', '20#109', '27#46', '19#92', '43#36', '67#28', '25#59', '19#69', '2#37', '21#112', '43#20', '24#14', '69#52', '56#96', '56#74', '11#73', '3#132', '24#5', '3#89', '42#5', '43#45', '36#15', '57#28', '48#14']\n",
      "ستايش خدا را كه پروردگار جهانيان است.\n",
      "\n"
     ]
    }
   ],
   "source": [
    "import language\n",
    "\n",
    "translation_translator = 'fa#1'\n",
    "pips = 'dep,pos,root,lemma'\n",
    "nlp = language.Pipeline(pips, translation_translator)\n",
    "\n",
    "doc = nlp('1#1')\n",
    "\n",
    "print(doc)\n",
    "print(doc._.text)\n",
    "print(doc._.surah)\n",
    "print(doc._.ayah)\n",
    "print(doc._.revelation_order)\n",
    "print(doc._.sim_ayahs)\n",
    "print(doc._.translations)\n"
   ]
  },
  {
   "cell_type": "code",
   "execution_count": 2,
   "metadata": {},
   "outputs": [
    {
     "name": "stdout",
     "output_type": "stream",
     "text": [
      "بِسْمِ اللَّهِ الرَّحْمَنِ الرَّحِیمِ \n",
      "بِسْمِ اللَّهِ الرَّحْمَـٰنِ الرَّحِيمِ\n",
      "فاتحه\n",
      "1\n",
      "63\n",
      "['27#30', '1#3', '55#1', '41#2', '2#163', '59#22', '11#41', '12#92', '7#151', '24#20', '44#42', '6#118', '36#5', '26#191', '26#175', '26#159', '26#140', '26#122', '26#104', '26#68', '26#9', '26#217', '20#5', '19#88', '21#83', '24#10', '25#60', '15#49', '12#64', '19#93', '2#192', '4#96', '4#106', '30#5', '32#6', '9#99', '6#121', '78#37', '19#91', '22#34', '2#218', '19#85', '41#32', '22#28', '12#98', '19#96', '20#8', '19#18', '5#4', '2#64', '39#53', '22#40', '5#74', '3#157', '10#58', '52#28', '22#36', '19#78', '43#84', '50#33', '6#119', '5#98', '17#110', '19#87', '21#26', '9#27', '36#58', '49#10', '26#5', '16#18', '9#104', '7#180', '6#138', '3#129', '23#118', '7#49', '67#29', '20#109', '27#46', '19#92', '43#36', '67#28', '25#59', '19#69', '2#37', '21#112', '43#20', '24#14', '69#52', '56#96', '56#74', '11#73', '3#132', '24#5', '3#89', '42#5', '43#45', '36#15', '57#28', '48#14']\n",
      "ستايش خدا را كه پروردگار جهانيان است.\n",
      "\n"
     ]
    }
   ],
   "source": [
    "import language\n",
    "\n",
    "translation_translator = 'fa#1'\n",
    "pips = 'dep,pos,root,lemma'\n",
    "nlp = language.Pipeline(pips, translation_translator)\n",
    "\n",
    "doc = nlp('1#1')\n",
    "\n",
    "print(doc)\n",
    "print(doc._.text)\n",
    "print(doc._.surah)\n",
    "print(doc._.ayah)\n",
    "print(doc._.revelation_order)\n",
    "print(doc._.sim_ayahs)\n",
    "print(doc._.translations)\n"
   ]
  },
  {
   "cell_type": "code",
   "execution_count": 3,
   "metadata": {},
   "outputs": [
    {
     "name": "stdout",
     "output_type": "stream",
     "text": [
      "يَا أَیُّهَا الَّذِينَ  آمَن اِصْبِر وَ صَابِر وَ رَابِط وَ اِتَّق اللَّهَ لَعَلَّکُمْ تُفْلِحُو اُو اُو اُو اُو اُو نَ \n",
      "يَا أَيُّهَا الَّذِينَ آمَنُوا اصْبِرُوا وَصَابِرُوا وَرَابِطُوا وَاتَّقُوا اللَّهَ لَعَلَّكُمْ تُفْلِحُونَ\n",
      "آل عمران\n",
      "200\n",
      "1\n",
      "['3#130', '5#35', '9#119', '33#70', '2#189', '8#45', '59#18', '22#77', '3#102', '3#123', '26#179', '26#163', '26#150', '26#144', '26#131', '26#126', '26#110', '26#108', '2#153', '49#1', '49#10', '2#278', '70#5', '5#90', '33#41', '61#2', '15#69', '57#28', '5#57', '7#69', '5#100', '2#183', '8#29', '5#11', '58#9', '52#16', '47#7', '8#20', '74#7', '5#8', '47#33', '8#27', '8#15', '7#87', '10#63', '61#10', '3#149', '3#100', '9#123', '33#69', '2#104', '2#172', '4#71', '16#127', '23#1', '5#87', '33#56', '62#10', '65#10', '49#12', '4#144', '63#9', '24#27', '2#208', '58#11', '64#14', '5#93', '5#105', '33#9', '27#53', '41#18', '5#88', '9#23', '61#14', '29#59', '16#42', '8#46', '60#13', '8#24', '4#59', '62#9', '49#6', '4#136', '5#51', '4#1', '5#2', '58#12', '4#29', '66#6', '5#94', '33#1', '2#254', '8#69', '87#14', '91#9', '33#49', '5#1', '2#21', '64#16', '9#34']\n",
      "اى كسانى كه ايمان آورده‌ايد، شكيبا باشيد و ديگران را به شكيبايى فراخوانيد و در جنگها پايدارى كنيد و از خدا بترسيد، باشد كه رستگار شويد.\n",
      "\n"
     ]
    }
   ],
   "source": [
    "import language\n",
    "\n",
    "translation_translator = 'fa#1'\n",
    "pips = 'dep,pos,root,lemma'\n",
    "nlp = language.Pipeline(pips, translation_translator)\n",
    "\n",
    "doc = nlp('3#200')\n",
    "\n",
    "print(doc)\n",
    "print(doc._.text)\n",
    "print(doc._.surah)\n",
    "print(doc._.ayah)\n",
    "print(doc._.revelation_order)\n",
    "print(doc._.sim_ayahs)\n",
    "print(doc._.translations)\n"
   ]
  },
  {
   "cell_type": "code",
   "execution_count": 4,
   "metadata": {},
   "outputs": [
    {
     "name": "stdout",
     "output_type": "stream",
     "text": [
      "هَا\n",
      "\n",
      "هَا\n",
      "ٱلَّذِى\n",
      "INTJ\n",
      "None\n",
      "\n"
     ]
    }
   ],
   "source": [
    "word=doc[2]\n",
    "print(word)\n",
    "print(word.dep_)\n",
    "print(word.head)\n",
    "print(word.lemma_)\n",
    "print(word.pos_)\n",
    "print(word._.dep_arc)\n",
    "print(word._.root)"
   ]
  },
  {
   "cell_type": "code",
   "execution_count": 9,
   "metadata": {},
   "outputs": [
    {
     "name": "stdout",
     "output_type": "stream",
     "text": [
      "اسم\n"
     ]
    }
   ],
   "source": [
    "import utils\n",
    "print(utils.POS_UNI_FA['NOUN'])"
   ]
  },
  {
   "cell_type": "code",
   "execution_count": 5,
   "metadata": {},
   "outputs": [
    {
     "name": "stdout",
     "output_type": "stream",
     "text": [
      "[{'id': 1, 'text': يَا, 'root': '', 'lemma': '', 'pos': 'INTJ', 'rel': 'جواب ندا', 'arc': 'LTR', 'head': اِصْبِر}, {'id': 2, 'text': أَیُّ, 'root': '', 'lemma': 'أَيُّهَا', 'pos': 'NOUN', 'rel': 'بدل', 'arc': 'LTR', 'head': الَّذِينَ }, {'id': 3, 'text': هَا, 'root': '', 'lemma': 'ٱلَّذِى', 'pos': 'INTJ', 'rel': '', 'arc': None, 'head': هَا}, {'id': 4, 'text': الَّذِينَ , 'root': 'امن', 'lemma': 'ءَامَنَ', 'pos': 'NOUN', 'rel': 'صله', 'arc': 'LTR', 'head': آمَن}, {'id': 5, 'text': آمَن, 'root': '', 'lemma': '', 'pos': 'VERB', 'rel': 'الف زینت', 'arc': 'LTR', 'head': ا}, {'id': 6, 'text': اِصْبِر, 'root': 'صبر', 'lemma': 'صَبَرَ', 'pos': 'VERB', 'rel': 'الف زینت', 'arc': 'LTR', 'head': ا}, {'id': 7, 'text': وَ, 'root': '', 'lemma': '', 'pos': 'INTJ', 'rel': 'عطف', 'arc': 'LTR', 'head': صَابِر}, {'id': 8, 'text': صَابِر, 'root': '', 'lemma': '', 'pos': 'VERB', 'rel': 'الف زینت', 'arc': 'LTR', 'head': ا}, {'id': 9, 'text': وَ, 'root': 'صبر', 'lemma': 'صَابِرُ', 'pos': 'INTJ', 'rel': 'عطف', 'arc': 'LTR', 'head': رَابِط}, {'id': 10, 'text': رَابِط, 'root': '', 'lemma': '', 'pos': 'VERB', 'rel': 'الف زینت', 'arc': 'LTR', 'head': ا}, {'id': 11, 'text': وَ, 'root': '', 'lemma': '', 'pos': 'INTJ', 'rel': 'عطف', 'arc': 'LTR', 'head': اِتَّق}, {'id': 12, 'text': اِتَّق, 'root': 'ربط', 'lemma': 'رَابِطُ', 'pos': 'VERB', 'rel': 'الف زینت', 'arc': 'LTR', 'head': ا}, {'id': 13, 'text': اللَّهَ, 'root': '', 'lemma': '', 'pos': 'NOUN', 'rel': '', 'arc': None, 'head': اللَّهَ}, {'id': 14, 'text': لَعَلَّ, 'root': '', 'lemma': '', 'pos': 'INTJ', 'rel': 'خبر', 'arc': 'LTR', 'head': تُفْلِح}, {'id': 15, 'text': کُمْ, 'root': 'وقي', 'lemma': 'ٱتَّقَىٰ', 'pos': 'NOUN', 'rel': '', 'arc': None, 'head': کُمْ}, {'id': 16, 'text': تُفْلِح, 'root': '', 'lemma': '', 'pos': 'VERB', 'rel': 'نون عوض رفع', 'arc': 'LTR', 'head': نَ}, {'id': 17, 'text': ُو, 'root': 'اله', 'lemma': 'ٱللَّه', 'pos': '', 'rel': '', 'arc': None, 'head': ُو}, {'id': 18, 'text': ا, 'root': '', 'lemma': 'لَعَلّ', 'pos': '', 'rel': '', 'arc': None, 'head': ا}, {'id': 19, 'text': ُو, 'root': '', 'lemma': '', 'pos': '', 'rel': '', 'arc': None, 'head': ُو}, {'id': 20, 'text': ا, 'root': 'فلح', 'lemma': 'أَفْلَحَ', 'pos': '', 'rel': '', 'arc': None, 'head': ا}, {'id': 21, 'text': ُو, 'root': '', 'lemma': '', 'pos': '', 'rel': '', 'arc': None, 'head': ُو}, {'id': 22, 'text': ا, 'root': None, 'lemma': '', 'pos': '', 'rel': '', 'arc': None, 'head': ا}, {'id': 23, 'text': ُو, 'root': None, 'lemma': '', 'pos': '', 'rel': '', 'arc': None, 'head': ُو}, {'id': 24, 'text': ا, 'root': None, 'lemma': '', 'pos': '', 'rel': '', 'arc': None, 'head': ا}, {'id': 25, 'text': ُو, 'root': None, 'lemma': '', 'pos': '', 'rel': '', 'arc': None, 'head': ُو}, {'id': 26, 'text': ا, 'root': None, 'lemma': '', 'pos': '', 'rel': '', 'arc': None, 'head': ا}, {'id': 27, 'text': ُو, 'root': None, 'lemma': '', 'pos': '', 'rel': '', 'arc': None, 'head': ُو}, {'id': 28, 'text': نَ, 'root': None, 'lemma': '', 'pos': '', 'rel': '', 'arc': None, 'head': نَ}]\n"
     ]
    }
   ],
   "source": [
    "dictionary = language.to_json(pips, doc)\n",
    "print(dictionary)"
   ]
  },
  {
   "cell_type": "code",
   "execution_count": 22,
   "metadata": {},
   "outputs": [
    {
     "data": {
      "text/html": [
       "<span class=\"tex2jax_ignore\"><!DOCTYPE html>\n",
       "<html lang=\"ar\">\n",
       "    <head>\n",
       "        <title>displaCy</title>\n",
       "    </head>\n",
       "\n",
       "    <body style=\"font-size: 16px; font-family: -apple-system, BlinkMacSystemFont, 'Segoe UI', Helvetica, Arial, sans-serif, 'Apple Color Emoji', 'Segoe UI Emoji', 'Segoe UI Symbol'; padding: 4rem 2rem; direction: rtl\">\n",
       "<figure style=\"margin-bottom: 6rem\">\n",
       "<svg xmlns=\"http://www.w3.org/2000/svg\" xmlns:xlink=\"http://www.w3.org/1999/xlink\" xml:lang=\"ar\" id=\"73f37dd1943f4d3bac85f1dabd0d9a69-0\" class=\"displacy\" width=\"1275\" height=\"312.0\" direction=\"rtl\" style=\"max-width: none; height: 312.0px; color: #000000; background: #ffffff; font-family: Arial; direction: rtl\">\n",
       "<text class=\"displacy-token\" fill=\"currentColor\" text-anchor=\"middle\" y=\"222.0\">\n",
       "    <tspan class=\"displacy-word\" fill=\"currentColor\" x=\"1225\">بِ</tspan>\n",
       "    <tspan class=\"displacy-tag\" dy=\"2em\" fill=\"currentColor\" x=\"1225\">INTJ</tspan>\n",
       "</text>\n",
       "\n",
       "<text class=\"displacy-token\" fill=\"currentColor\" text-anchor=\"middle\" y=\"222.0\">\n",
       "    <tspan class=\"displacy-word\" fill=\"currentColor\" x=\"1050\">سْمِ</tspan>\n",
       "    <tspan class=\"displacy-tag\" dy=\"2em\" fill=\"currentColor\" x=\"1050\">NOUN</tspan>\n",
       "</text>\n",
       "\n",
       "<text class=\"displacy-token\" fill=\"currentColor\" text-anchor=\"middle\" y=\"222.0\">\n",
       "    <tspan class=\"displacy-word\" fill=\"currentColor\" x=\"875\">اللَّهِ</tspan>\n",
       "    <tspan class=\"displacy-tag\" dy=\"2em\" fill=\"currentColor\" x=\"875\">NOUN</tspan>\n",
       "</text>\n",
       "\n",
       "<text class=\"displacy-token\" fill=\"currentColor\" text-anchor=\"middle\" y=\"222.0\">\n",
       "    <tspan class=\"displacy-word\" fill=\"currentColor\" x=\"700\">ال</tspan>\n",
       "    <tspan class=\"displacy-tag\" dy=\"2em\" fill=\"currentColor\" x=\"700\">INTJ</tspan>\n",
       "</text>\n",
       "\n",
       "<text class=\"displacy-token\" fill=\"currentColor\" text-anchor=\"middle\" y=\"222.0\">\n",
       "    <tspan class=\"displacy-word\" fill=\"currentColor\" x=\"525\">رَّحْمَنِ</tspan>\n",
       "    <tspan class=\"displacy-tag\" dy=\"2em\" fill=\"currentColor\" x=\"525\">NOUN</tspan>\n",
       "</text>\n",
       "\n",
       "<text class=\"displacy-token\" fill=\"currentColor\" text-anchor=\"middle\" y=\"222.0\">\n",
       "    <tspan class=\"displacy-word\" fill=\"currentColor\" x=\"350\">ال</tspan>\n",
       "    <tspan class=\"displacy-tag\" dy=\"2em\" fill=\"currentColor\" x=\"350\">INTJ</tspan>\n",
       "</text>\n",
       "\n",
       "<text class=\"displacy-token\" fill=\"currentColor\" text-anchor=\"middle\" y=\"222.0\">\n",
       "    <tspan class=\"displacy-word\" fill=\"currentColor\" x=\"175\">رَّحِیمِ</tspan>\n",
       "    <tspan class=\"displacy-tag\" dy=\"2em\" fill=\"currentColor\" x=\"175\">NOUN</tspan>\n",
       "</text>\n",
       "\n",
       "<g class=\"displacy-arrow\">\n",
       "    <path class=\"displacy-arc\" id=\"arrow-73f37dd1943f4d3bac85f1dabd0d9a69-0-0\" stroke-width=\"2px\" d=\"M1205,177.0 C1205,89.5 1055.0,89.5 1055.0,177.0\" fill=\"none\" stroke=\"currentColor\"/>\n",
       "    <text dy=\"1.25em\" style=\"font-size: 0.8em; letter-spacing: 1px\">\n",
       "        <textPath xlink:href=\"#arrow-73f37dd1943f4d3bac85f1dabd0d9a69-0-0\" class=\"displacy-label\" startOffset=\"50%\" side=\"right\" fill=\"currentColor\" text-anchor=\"middle\">مجرور</textPath>\n",
       "    </text>\n",
       "    <path class=\"displacy-arrowhead\" d=\"M1205,179.0 L1197,167.0 1213,167.0\" fill=\"currentColor\"/>\n",
       "</g>\n",
       "\n",
       "<g class=\"displacy-arrow\">\n",
       "    <path class=\"displacy-arc\" id=\"arrow-73f37dd1943f4d3bac85f1dabd0d9a69-0-1\" stroke-width=\"2px\" d=\"M1030,177.0 C1030,89.5 880.0,89.5 880.0,177.0\" fill=\"none\" stroke=\"currentColor\"/>\n",
       "    <text dy=\"1.25em\" style=\"font-size: 0.8em; letter-spacing: 1px\">\n",
       "        <textPath xlink:href=\"#arrow-73f37dd1943f4d3bac85f1dabd0d9a69-0-1\" class=\"displacy-label\" startOffset=\"50%\" side=\"right\" fill=\"currentColor\" text-anchor=\"middle\">مضاف الیه </textPath>\n",
       "    </text>\n",
       "    <path class=\"displacy-arrowhead\" d=\"M1030,179.0 L1022,167.0 1038,167.0\" fill=\"currentColor\"/>\n",
       "</g>\n",
       "\n",
       "<g class=\"displacy-arrow\">\n",
       "    <path class=\"displacy-arc\" id=\"arrow-73f37dd1943f4d3bac85f1dabd0d9a69-0-2\" stroke-width=\"2px\" d=\"M855,177.0 C855,2.0 175.0,2.0 175.0,177.0\" fill=\"none\" stroke=\"currentColor\"/>\n",
       "    <text dy=\"1.25em\" style=\"font-size: 0.8em; letter-spacing: 1px\">\n",
       "        <textPath xlink:href=\"#arrow-73f37dd1943f4d3bac85f1dabd0d9a69-0-2\" class=\"displacy-label\" startOffset=\"50%\" side=\"right\" fill=\"currentColor\" text-anchor=\"middle\">نعت</textPath>\n",
       "    </text>\n",
       "    <path class=\"displacy-arrowhead\" d=\"M855,179.0 L847,167.0 863,167.0\" fill=\"currentColor\"/>\n",
       "</g>\n",
       "\n",
       "<g class=\"displacy-arrow\">\n",
       "    <path class=\"displacy-arc\" id=\"arrow-73f37dd1943f4d3bac85f1dabd0d9a69-0-3\" stroke-width=\"2px\" d=\"M680,177.0 C680,89.5 530.0,89.5 530.0,177.0\" fill=\"none\" stroke=\"currentColor\"/>\n",
       "    <text dy=\"1.25em\" style=\"font-size: 0.8em; letter-spacing: 1px\">\n",
       "        <textPath xlink:href=\"#arrow-73f37dd1943f4d3bac85f1dabd0d9a69-0-3\" class=\"displacy-label\" startOffset=\"50%\" side=\"right\" fill=\"currentColor\" text-anchor=\"middle\">تعریف</textPath>\n",
       "    </text>\n",
       "    <path class=\"displacy-arrowhead\" d=\"M680,179.0 L672,167.0 688,167.0\" fill=\"currentColor\"/>\n",
       "</g>\n",
       "\n",
       "<g class=\"displacy-arrow\">\n",
       "    <path class=\"displacy-arc\" id=\"arrow-73f37dd1943f4d3bac85f1dabd0d9a69-0-4\" stroke-width=\"2px\" d=\"M330,177.0 C330,89.5 180.0,89.5 180.0,177.0\" fill=\"none\" stroke=\"currentColor\"/>\n",
       "    <text dy=\"1.25em\" style=\"font-size: 0.8em; letter-spacing: 1px\">\n",
       "        <textPath xlink:href=\"#arrow-73f37dd1943f4d3bac85f1dabd0d9a69-0-4\" class=\"displacy-label\" startOffset=\"50%\" side=\"right\" fill=\"currentColor\" text-anchor=\"middle\">تعریف</textPath>\n",
       "    </text>\n",
       "    <path class=\"displacy-arrowhead\" d=\"M330,179.0 L322,167.0 338,167.0\" fill=\"currentColor\"/>\n",
       "</g>\n",
       "</svg>\n",
       "</figure>\n",
       "</body>\n",
       "</html></span>"
      ],
      "text/plain": [
       "<IPython.core.display.HTML object>"
      ]
     },
     "metadata": {},
     "output_type": "display_data"
    },
    {
     "name": "stdout",
     "output_type": "stream",
     "text": [
      "\n",
      "Using the 'dep' visualizer\n",
      "Serving on http://0.0.0.0:5000 ...\n",
      "\n"
     ]
    },
    {
     "name": "stderr",
     "output_type": "stream",
     "text": [
      "127.0.0.1 - - [12/Jun/2023 15:37:01] \"GET / HTTP/1.1\" 200 5384\n",
      "127.0.0.1 - - [12/Jun/2023 15:37:01] \"GET /favicon.ico HTTP/1.1\" 200 5384\n"
     ]
    },
    {
     "name": "stdout",
     "output_type": "stream",
     "text": [
      "Shutting down server on port 5000.\n"
     ]
    }
   ],
   "source": [
    "displacy.serve(doc, style=\"dep\")"
   ]
  },
  {
   "cell_type": "code",
   "execution_count": 20,
   "metadata": {},
   "outputs": [
    {
     "name": "stderr",
     "output_type": "stream",
     "text": [
      "/home/smajy/Disks/Learn/All/Research/Hadith/Mudoles/Quranic nlp/.venv/lib/python3.10/site-packages/spacy/displacy/__init__.py:108: UserWarning: [W011] It looks like you're calling displacy.serve from within a Jupyter notebook or a similar environment. This likely means you're already running a local web server, so there's no need to make displaCy start another one. Instead, you should be able to replace displacy.serve with displacy.render to show the visualization.\n",
      "  warnings.warn(Warnings.W011)\n"
     ]
    },
    {
     "data": {
      "text/html": [
       "<span class=\"tex2jax_ignore\"><!DOCTYPE html>\n",
       "<html lang=\"ar\">\n",
       "    <head>\n",
       "        <title>displaCy</title>\n",
       "    </head>\n",
       "\n",
       "    <body style=\"font-size: 16px; font-family: -apple-system, BlinkMacSystemFont, 'Segoe UI', Helvetica, Arial, sans-serif, 'Apple Color Emoji', 'Segoe UI Emoji', 'Segoe UI Symbol'; padding: 4rem 2rem; direction: rtl\">\n",
       "<figure style=\"margin-bottom: 6rem\">\n",
       "<svg xmlns=\"http://www.w3.org/2000/svg\" xmlns:xlink=\"http://www.w3.org/1999/xlink\" xml:lang=\"ar\" id=\"80379a0da64145efb40d39536f193842-0\" class=\"displacy\" width=\"1100\" height=\"287.0\" direction=\"rtl\" style=\"max-width: none; height: 287.0px; color: white; background: #09a3d5; font-family: xb-niloofar; direction: rtl\">\n",
       "<text class=\"displacy-token\" fill=\"currentColor\" text-anchor=\"middle\" y=\"197.0\">\n",
       "    <tspan class=\"displacy-word\" fill=\"currentColor\" x=\"1050\">بِ</tspan>\n",
       "    <tspan class=\"displacy-tag\" dy=\"2em\" fill=\"currentColor\" x=\"1050\">INTJ</tspan>\n",
       "</text>\n",
       "\n",
       "<text class=\"displacy-token\" fill=\"currentColor\" text-anchor=\"middle\" y=\"197.0\">\n",
       "    <tspan class=\"displacy-word\" fill=\"currentColor\" x=\"900\">سْمِ</tspan>\n",
       "    <tspan class=\"displacy-tag\" dy=\"2em\" fill=\"currentColor\" x=\"900\">NOUN</tspan>\n",
       "</text>\n",
       "\n",
       "<text class=\"displacy-token\" fill=\"currentColor\" text-anchor=\"middle\" y=\"197.0\">\n",
       "    <tspan class=\"displacy-word\" fill=\"currentColor\" x=\"750\">اللَّهِ</tspan>\n",
       "    <tspan class=\"displacy-tag\" dy=\"2em\" fill=\"currentColor\" x=\"750\">NOUN</tspan>\n",
       "</text>\n",
       "\n",
       "<text class=\"displacy-token\" fill=\"currentColor\" text-anchor=\"middle\" y=\"197.0\">\n",
       "    <tspan class=\"displacy-word\" fill=\"currentColor\" x=\"600\">ال</tspan>\n",
       "    <tspan class=\"displacy-tag\" dy=\"2em\" fill=\"currentColor\" x=\"600\">INTJ</tspan>\n",
       "</text>\n",
       "\n",
       "<text class=\"displacy-token\" fill=\"currentColor\" text-anchor=\"middle\" y=\"197.0\">\n",
       "    <tspan class=\"displacy-word\" fill=\"currentColor\" x=\"450\">رَّحْمَنِ</tspan>\n",
       "    <tspan class=\"displacy-tag\" dy=\"2em\" fill=\"currentColor\" x=\"450\">NOUN</tspan>\n",
       "</text>\n",
       "\n",
       "<text class=\"displacy-token\" fill=\"currentColor\" text-anchor=\"middle\" y=\"197.0\">\n",
       "    <tspan class=\"displacy-word\" fill=\"currentColor\" x=\"300\">ال</tspan>\n",
       "    <tspan class=\"displacy-tag\" dy=\"2em\" fill=\"currentColor\" x=\"300\">INTJ</tspan>\n",
       "</text>\n",
       "\n",
       "<text class=\"displacy-token\" fill=\"currentColor\" text-anchor=\"middle\" y=\"197.0\">\n",
       "    <tspan class=\"displacy-word\" fill=\"currentColor\" x=\"150\">رَّحِیمِ</tspan>\n",
       "    <tspan class=\"displacy-tag\" dy=\"2em\" fill=\"currentColor\" x=\"150\">NOUN</tspan>\n",
       "</text>\n",
       "\n",
       "<g class=\"displacy-arrow\">\n",
       "    <path class=\"displacy-arc\" id=\"arrow-80379a0da64145efb40d39536f193842-0-0\" stroke-width=\"2px\" d=\"M1038,152.0 1038,127.0 903.0,127.0 903.0,152.0\" fill=\"none\" stroke=\"currentColor\"/>\n",
       "    <text dy=\"1.25em\" style=\"font-size: 0.8em; letter-spacing: 1px\">\n",
       "        <textPath xlink:href=\"#arrow-80379a0da64145efb40d39536f193842-0-0\" class=\"displacy-label\" startOffset=\"50%\" side=\"right\" fill=\"currentColor\" text-anchor=\"middle\">مجرور</textPath>\n",
       "    </text>\n",
       "    <path class=\"displacy-arrowhead\" d=\"M1038,154.0 L1034,146.0 1042,146.0\" fill=\"currentColor\"/>\n",
       "</g>\n",
       "\n",
       "<g class=\"displacy-arrow\">\n",
       "    <path class=\"displacy-arc\" id=\"arrow-80379a0da64145efb40d39536f193842-0-1\" stroke-width=\"2px\" d=\"M888,152.0 888,127.0 753.0,127.0 753.0,152.0\" fill=\"none\" stroke=\"currentColor\"/>\n",
       "    <text dy=\"1.25em\" style=\"font-size: 0.8em; letter-spacing: 1px\">\n",
       "        <textPath xlink:href=\"#arrow-80379a0da64145efb40d39536f193842-0-1\" class=\"displacy-label\" startOffset=\"50%\" side=\"right\" fill=\"currentColor\" text-anchor=\"middle\">مضاف الیه </textPath>\n",
       "    </text>\n",
       "    <path class=\"displacy-arrowhead\" d=\"M888,154.0 L884,146.0 892,146.0\" fill=\"currentColor\"/>\n",
       "</g>\n",
       "\n",
       "<g class=\"displacy-arrow\">\n",
       "    <path class=\"displacy-arc\" id=\"arrow-80379a0da64145efb40d39536f193842-0-2\" stroke-width=\"2px\" d=\"M738,152.0 738,102.0 150.0,102.0 150.0,152.0\" fill=\"none\" stroke=\"currentColor\"/>\n",
       "    <text dy=\"1.25em\" style=\"font-size: 0.8em; letter-spacing: 1px\">\n",
       "        <textPath xlink:href=\"#arrow-80379a0da64145efb40d39536f193842-0-2\" class=\"displacy-label\" startOffset=\"50%\" side=\"right\" fill=\"currentColor\" text-anchor=\"middle\">نعت</textPath>\n",
       "    </text>\n",
       "    <path class=\"displacy-arrowhead\" d=\"M738,154.0 L734,146.0 742,146.0\" fill=\"currentColor\"/>\n",
       "</g>\n",
       "\n",
       "<g class=\"displacy-arrow\">\n",
       "    <path class=\"displacy-arc\" id=\"arrow-80379a0da64145efb40d39536f193842-0-3\" stroke-width=\"2px\" d=\"M588,152.0 588,127.0 453.0,127.0 453.0,152.0\" fill=\"none\" stroke=\"currentColor\"/>\n",
       "    <text dy=\"1.25em\" style=\"font-size: 0.8em; letter-spacing: 1px\">\n",
       "        <textPath xlink:href=\"#arrow-80379a0da64145efb40d39536f193842-0-3\" class=\"displacy-label\" startOffset=\"50%\" side=\"right\" fill=\"currentColor\" text-anchor=\"middle\">تعریف</textPath>\n",
       "    </text>\n",
       "    <path class=\"displacy-arrowhead\" d=\"M588,154.0 L584,146.0 592,146.0\" fill=\"currentColor\"/>\n",
       "</g>\n",
       "\n",
       "<g class=\"displacy-arrow\">\n",
       "    <path class=\"displacy-arc\" id=\"arrow-80379a0da64145efb40d39536f193842-0-4\" stroke-width=\"2px\" d=\"M288,152.0 288,127.0 153.0,127.0 153.0,152.0\" fill=\"none\" stroke=\"currentColor\"/>\n",
       "    <text dy=\"1.25em\" style=\"font-size: 0.8em; letter-spacing: 1px\">\n",
       "        <textPath xlink:href=\"#arrow-80379a0da64145efb40d39536f193842-0-4\" class=\"displacy-label\" startOffset=\"50%\" side=\"right\" fill=\"currentColor\" text-anchor=\"middle\">تعریف</textPath>\n",
       "    </text>\n",
       "    <path class=\"displacy-arrowhead\" d=\"M288,154.0 L284,146.0 292,146.0\" fill=\"currentColor\"/>\n",
       "</g>\n",
       "</svg>\n",
       "</figure>\n",
       "</body>\n",
       "</html></span>"
      ],
      "text/plain": [
       "<IPython.core.display.HTML object>"
      ]
     },
     "metadata": {},
     "output_type": "display_data"
    },
    {
     "name": "stdout",
     "output_type": "stream",
     "text": [
      "\n",
      "Using the 'dep' visualizer\n",
      "Serving on http://0.0.0.0:5000 ...\n",
      "\n"
     ]
    },
    {
     "name": "stderr",
     "output_type": "stream",
     "text": [
      "127.0.0.1 - - [12/Jun/2023 15:34:42] \"GET / HTTP/1.1\" 200 5386\n",
      "127.0.0.1 - - [12/Jun/2023 15:34:43] \"GET /favicon.ico HTTP/1.1\" 200 5386\n"
     ]
    },
    {
     "name": "stdout",
     "output_type": "stream",
     "text": [
      "Shutting down server on port 5000.\n"
     ]
    }
   ],
   "source": [
    "from spacy import displacy\n",
    "options = {\"compact\": True, \"bg\": \"#09a3d5\",\n",
    "           \"color\": \"white\", \"font\": \"xb-niloofar\"}\n",
    "displacy.serve(doc, style=\"dep\", options=options)\n"
   ]
  },
  {
   "cell_type": "code",
   "execution_count": null,
   "metadata": {},
   "outputs": [],
   "source": []
  },
  {
   "cell_type": "code",
   "execution_count": null,
   "metadata": {},
   "outputs": [],
   "source": []
  },
  {
   "cell_type": "code",
   "execution_count": 11,
   "metadata": {},
   "outputs": [],
   "source": [
    "with open('../../data_utils/roku3at.txt') as file:\n",
    "    data = file.readlines()"
   ]
  },
  {
   "cell_type": "code",
   "execution_count": 18,
   "metadata": {},
   "outputs": [
    {
     "data": {
      "text/plain": [
       "'1:1#1:7'"
      ]
     },
     "execution_count": 18,
     "metadata": {},
     "output_type": "execute_result"
    }
   ],
   "source": [
    "data[0].split('\\t')[0].split('##')[1]\n",
    "# data[0].split('\\t')[1]"
   ]
  },
  {
   "cell_type": "code",
   "execution_count": 14,
   "metadata": {},
   "outputs": [
    {
     "data": {
      "text/plain": [
       "['2##2:1#2:8',\n",
       " 'ٱسْم ٱللَّه رَّحْمَٰن رَّحِیم الٓمٓ ذَٰلِك كِتَٰب لَا رَیْب فِي هُدًي مُتَّقِین ٱلَّذِي ءَامَنَ غَیْب أَقَامَ صَلَوٰة مِن مَا رَزَقَ أَنفَقَ ٱلَّذِي ءَامَنَ مَا أَنزَلَ إِلَيٰ مَا أَنزَلَ مِن قَبْل آخِر یُوقِنُ أُولَٰٓئِك عَلَيٰ هُدًي مِن رَبّ أُولَٰٓئِك مُفْلِحُون إِنّ ٱلَّذِي كَفَرَ سَوَآء عَلَيٰ أَنذَرَ أَم لَم أَنذَرَ لَا ءَامَنَ خَتَمَ ٱللَّه عَلَيٰ قَلْب عَلَيٰ سَمْع عَلَيٰ بَصَر غِشَٰوَة عَذَاب عَظِیم\\n']"
      ]
     },
     "execution_count": 14,
     "metadata": {},
     "output_type": "execute_result"
    }
   ],
   "source": [
    "data[1].split('\\t')"
   ]
  },
  {
   "cell_type": "code",
   "execution_count": 15,
   "metadata": {},
   "outputs": [
    {
     "data": {
      "text/plain": [
       "['3##2:9#2:21',\n",
       " 'مِن نَّاس مَن قَالَ ءَامَنَ ٱللَّه یَوْم آخِر مَا مُؤْمِن یُخَٰدِعُ ٱللَّه ٱلَّذِي ءَامَنَ مَا یَخْدَعُ إِلَّا نَفْس مَا یَشْعُرُ فِي قَلْب مَّرَض زَادَ ٱللَّه مَّرَض عَذَاب أَلِیم مَا كَانَ كَذَبَ إِذَا قَالَ لَا أَفْسَدُ فِي أَرْض قَالَ إِنّ مَا مُصْلِح أَلَآ إِنّ مُفْسِد لَٰكِن لَا یَشْعُرُ إِذَا قَالَ ءَامَنَ مَا ءَامَنَ نَّاس قَالَ ءَامَنَ مَا ءَامَنَ سَفِیه أَلَآ إِنّ سَفِیه لَٰكِن لَا عَلِمَ إِذَا لَقُ ٱلَّذِي ءَامَنَ قَالَ ءَامَنَ إِذَا خَلَا إِلَيٰ شَیْطَٰن قَالَ إِنّ مَع إِنّ مَا مُسْتَهْزِءُون ٱللَّه ٱسْتُهْزِئَ مَدَّ فِي طُغْیَٰن یَعْمَهُ أُولَٰٓئِك ٱلَّذِي ٱشْتَرَيٰ ضَلَٰلَة هُدًي مَا رَبِحَت تِجَٰرَة مَا كَانَ مُّهْتَدُون مَثَل مَثَل ٱلَّذِي ٱسْتَوْقَدَ نَار لَمَّا أَضَآءَ مَا حَوْل ذَهَبَ ٱللَّه نُور تَرَكَ فِي ظُلُمَٰت لَا أَبْصَرَ أَصَمّ أَبْكَم أَعْمَيٰ لَا رَجَعَ أَو صَیِّب مِن سَمَآء فِي ظُلُمَٰت رَعْد بَرْق جَعَلَ أَصَٰبِع فِي أُذُنٌ مِن صَاعِقَة حَذَر مَوْت ٱللَّه مُحِیط كَٰفِرُون كَادَ بَرْق خَطِفَ بَصَر كُلَّمَا أَضَآءَ مَّشَ فِي إِذَا أَظْلَمَ عَلَيٰ قَامَ لَو شَآءَ ٱللَّه ذَهَبَ سَمْع بَصَر إِنّ ٱللَّه عَلَيٰ كُلّ شَيْء قَدِیر\\n']"
      ]
     },
     "execution_count": 15,
     "metadata": {},
     "output_type": "execute_result"
    }
   ],
   "source": [
    "data[2].split('\\t')"
   ]
  },
  {
   "cell_type": "code",
   "execution_count": 16,
   "metadata": {},
   "outputs": [
    {
     "data": {
      "text/plain": [
       "556"
      ]
     },
     "execution_count": 16,
     "metadata": {},
     "output_type": "execute_result"
    }
   ],
   "source": [
    "len(data)"
   ]
  },
  {
   "cell_type": "code",
   "execution_count": 25,
   "metadata": {},
   "outputs": [
    {
     "data": {
      "text/plain": [
       "'ٱسْم ٱللَّه رَّحْمَٰن رَّحِیم قَالَ عُذْ رَبّ نَّاس مَلِك نَّاس إِلَٰه نَّاس مِن شَرّ وَسْوَاس خَنَّاس ٱلَّذِي وَسْوَسَ فِي صَدْر نَّاس مِنَ ٱلْ جِنَّةِ وَ ٱل نَّاسِ\\n'"
      ]
     },
     "execution_count": 25,
     "metadata": {},
     "output_type": "execute_result"
    }
   ],
   "source": [
    "data[-1].split('\\t')[1]"
   ]
  },
  {
   "cell_type": "code",
   "execution_count": 34,
   "metadata": {},
   "outputs": [],
   "source": [
    "import pandas as pd"
   ]
  },
  {
   "cell_type": "code",
   "execution_count": 35,
   "metadata": {},
   "outputs": [
    {
     "data": {
      "text/html": [
       "<div>\n",
       "<style scoped>\n",
       "    .dataframe tbody tr th:only-of-type {\n",
       "        vertical-align: middle;\n",
       "    }\n",
       "\n",
       "    .dataframe tbody tr th {\n",
       "        vertical-align: top;\n",
       "    }\n",
       "\n",
       "    .dataframe thead th {\n",
       "        text-align: right;\n",
       "    }\n",
       "</style>\n",
       "<table border=\"1\" class=\"dataframe\">\n",
       "  <thead>\n",
       "    <tr style=\"text-align: right;\">\n",
       "      <th></th>\n",
       "      <th>Unnamed: 0</th>\n",
       "      <th>Topic_id</th>\n",
       "      <th>Word</th>\n",
       "      <th>Percentage</th>\n",
       "    </tr>\n",
       "  </thead>\n",
       "  <tbody>\n",
       "    <tr>\n",
       "      <th>0</th>\n",
       "      <td>0</td>\n",
       "      <td>0</td>\n",
       "      <td>مُوسَيٰ</td>\n",
       "      <td>0.235294</td>\n",
       "    </tr>\n",
       "    <tr>\n",
       "      <th>1</th>\n",
       "      <td>1</td>\n",
       "      <td>0</td>\n",
       "      <td>هَٰرُون</td>\n",
       "      <td>0.235294</td>\n",
       "    </tr>\n",
       "    <tr>\n",
       "      <th>2</th>\n",
       "      <td>2</td>\n",
       "      <td>0</td>\n",
       "      <td>أَخ</td>\n",
       "      <td>0.141176</td>\n",
       "    </tr>\n",
       "    <tr>\n",
       "      <th>3</th>\n",
       "      <td>3</td>\n",
       "      <td>0</td>\n",
       "      <td>أَرْسَلَ</td>\n",
       "      <td>0.117647</td>\n",
       "    </tr>\n",
       "    <tr>\n",
       "      <th>4</th>\n",
       "      <td>4</td>\n",
       "      <td>0</td>\n",
       "      <td>لَوْح</td>\n",
       "      <td>0.058824</td>\n",
       "    </tr>\n",
       "    <tr>\n",
       "      <th>...</th>\n",
       "      <td>...</td>\n",
       "      <td>...</td>\n",
       "      <td>...</td>\n",
       "      <td>...</td>\n",
       "    </tr>\n",
       "    <tr>\n",
       "      <th>7915</th>\n",
       "      <td>7915</td>\n",
       "      <td>849</td>\n",
       "      <td>نُّهَيٰ</td>\n",
       "      <td>0.000000</td>\n",
       "    </tr>\n",
       "    <tr>\n",
       "      <th>7916</th>\n",
       "      <td>7916</td>\n",
       "      <td>849</td>\n",
       "      <td>رَعَ</td>\n",
       "      <td>0.000000</td>\n",
       "    </tr>\n",
       "    <tr>\n",
       "      <th>7917</th>\n",
       "      <td>7917</td>\n",
       "      <td>849</td>\n",
       "      <td>شَتَّيٰ</td>\n",
       "      <td>0.000000</td>\n",
       "    </tr>\n",
       "    <tr>\n",
       "      <th>7918</th>\n",
       "      <td>7918</td>\n",
       "      <td>849</td>\n",
       "      <td>یُسْحِتَ</td>\n",
       "      <td>0.000000</td>\n",
       "    </tr>\n",
       "    <tr>\n",
       "      <th>7919</th>\n",
       "      <td>7919</td>\n",
       "      <td>849</td>\n",
       "      <td>لَّیِّن</td>\n",
       "      <td>0.000000</td>\n",
       "    </tr>\n",
       "  </tbody>\n",
       "</table>\n",
       "<p>7920 rows × 4 columns</p>\n",
       "</div>"
      ],
      "text/plain": [
       "      Unnamed: 0  Topic_id      Word  Percentage\n",
       "0              0         0   مُوسَيٰ    0.235294\n",
       "1              1         0   هَٰرُون    0.235294\n",
       "2              2         0       أَخ    0.141176\n",
       "3              3         0  أَرْسَلَ    0.117647\n",
       "4              4         0     لَوْح    0.058824\n",
       "...          ...       ...       ...         ...\n",
       "7915        7915       849   نُّهَيٰ    0.000000\n",
       "7916        7916       849      رَعَ    0.000000\n",
       "7917        7917       849   شَتَّيٰ    0.000000\n",
       "7918        7918       849  یُسْحِتَ    0.000000\n",
       "7919        7919       849   لَّیِّن    0.000000\n",
       "\n",
       "[7920 rows x 4 columns]"
      ]
     },
     "execution_count": 35,
     "metadata": {},
     "output_type": "execute_result"
    }
   ],
   "source": [
    "pd.read_excel('../../data_utils/Topic_Word_Percentage_Verse_Lemma_with_stopWords_Removal_Mallet_20230619213545.xlsx')"
   ]
  },
  {
   "cell_type": "code",
   "execution_count": 36,
   "metadata": {},
   "outputs": [
    {
     "data": {
      "text/html": [
       "<div>\n",
       "<style scoped>\n",
       "    .dataframe tbody tr th:only-of-type {\n",
       "        vertical-align: middle;\n",
       "    }\n",
       "\n",
       "    .dataframe tbody tr th {\n",
       "        vertical-align: top;\n",
       "    }\n",
       "\n",
       "    .dataframe thead th {\n",
       "        text-align: right;\n",
       "    }\n",
       "</style>\n",
       "<table border=\"1\" class=\"dataframe\">\n",
       "  <thead>\n",
       "    <tr style=\"text-align: right;\">\n",
       "      <th></th>\n",
       "      <th>Unnamed: 0</th>\n",
       "      <th>Verse Number</th>\n",
       "      <th>From Sura</th>\n",
       "      <th>From Verse</th>\n",
       "      <th>To Sura</th>\n",
       "      <th>To Verse</th>\n",
       "      <th>Topic_ID</th>\n",
       "      <th>Percentage</th>\n",
       "    </tr>\n",
       "  </thead>\n",
       "  <tbody>\n",
       "    <tr>\n",
       "      <th>0</th>\n",
       "      <td>0</td>\n",
       "      <td>1</td>\n",
       "      <td>1</td>\n",
       "      <td>1</td>\n",
       "      <td>1</td>\n",
       "      <td>1</td>\n",
       "      <td>715</td>\n",
       "      <td>0.161877</td>\n",
       "    </tr>\n",
       "    <tr>\n",
       "      <th>1</th>\n",
       "      <td>1</td>\n",
       "      <td>1</td>\n",
       "      <td>1</td>\n",
       "      <td>1</td>\n",
       "      <td>1</td>\n",
       "      <td>1</td>\n",
       "      <td>66</td>\n",
       "      <td>0.088050</td>\n",
       "    </tr>\n",
       "    <tr>\n",
       "      <th>2</th>\n",
       "      <td>2</td>\n",
       "      <td>1</td>\n",
       "      <td>1</td>\n",
       "      <td>1</td>\n",
       "      <td>1</td>\n",
       "      <td>1</td>\n",
       "      <td>124</td>\n",
       "      <td>0.061785</td>\n",
       "    </tr>\n",
       "    <tr>\n",
       "      <th>3</th>\n",
       "      <td>3</td>\n",
       "      <td>1</td>\n",
       "      <td>1</td>\n",
       "      <td>1</td>\n",
       "      <td>1</td>\n",
       "      <td>1</td>\n",
       "      <td>559</td>\n",
       "      <td>0.050747</td>\n",
       "    </tr>\n",
       "    <tr>\n",
       "      <th>4</th>\n",
       "      <td>4</td>\n",
       "      <td>1</td>\n",
       "      <td>1</td>\n",
       "      <td>1</td>\n",
       "      <td>1</td>\n",
       "      <td>1</td>\n",
       "      <td>72</td>\n",
       "      <td>0.025037</td>\n",
       "    </tr>\n",
       "    <tr>\n",
       "      <th>...</th>\n",
       "      <td>...</td>\n",
       "      <td>...</td>\n",
       "      <td>...</td>\n",
       "      <td>...</td>\n",
       "      <td>...</td>\n",
       "      <td>...</td>\n",
       "      <td>...</td>\n",
       "      <td>...</td>\n",
       "    </tr>\n",
       "    <tr>\n",
       "      <th>311795</th>\n",
       "      <td>311795</td>\n",
       "      <td>6236</td>\n",
       "      <td>114</td>\n",
       "      <td>6</td>\n",
       "      <td>114</td>\n",
       "      <td>6</td>\n",
       "      <td>1</td>\n",
       "      <td>0.001876</td>\n",
       "    </tr>\n",
       "    <tr>\n",
       "      <th>311796</th>\n",
       "      <td>311796</td>\n",
       "      <td>6236</td>\n",
       "      <td>114</td>\n",
       "      <td>6</td>\n",
       "      <td>114</td>\n",
       "      <td>6</td>\n",
       "      <td>641</td>\n",
       "      <td>0.001842</td>\n",
       "    </tr>\n",
       "    <tr>\n",
       "      <th>311797</th>\n",
       "      <td>311797</td>\n",
       "      <td>6236</td>\n",
       "      <td>114</td>\n",
       "      <td>6</td>\n",
       "      <td>114</td>\n",
       "      <td>6</td>\n",
       "      <td>369</td>\n",
       "      <td>0.001831</td>\n",
       "    </tr>\n",
       "    <tr>\n",
       "      <th>311798</th>\n",
       "      <td>311798</td>\n",
       "      <td>6236</td>\n",
       "      <td>114</td>\n",
       "      <td>6</td>\n",
       "      <td>114</td>\n",
       "      <td>6</td>\n",
       "      <td>622</td>\n",
       "      <td>0.001813</td>\n",
       "    </tr>\n",
       "    <tr>\n",
       "      <th>311799</th>\n",
       "      <td>311799</td>\n",
       "      <td>6236</td>\n",
       "      <td>114</td>\n",
       "      <td>6</td>\n",
       "      <td>114</td>\n",
       "      <td>6</td>\n",
       "      <td>540</td>\n",
       "      <td>0.001806</td>\n",
       "    </tr>\n",
       "  </tbody>\n",
       "</table>\n",
       "<p>311800 rows × 8 columns</p>\n",
       "</div>"
      ],
      "text/plain": [
       "        Unnamed: 0  Verse Number  From Sura  From Verse  To Sura  To Verse  \\\n",
       "0                0             1          1           1        1         1   \n",
       "1                1             1          1           1        1         1   \n",
       "2                2             1          1           1        1         1   \n",
       "3                3             1          1           1        1         1   \n",
       "4                4             1          1           1        1         1   \n",
       "...            ...           ...        ...         ...      ...       ...   \n",
       "311795      311795          6236        114           6      114         6   \n",
       "311796      311796          6236        114           6      114         6   \n",
       "311797      311797          6236        114           6      114         6   \n",
       "311798      311798          6236        114           6      114         6   \n",
       "311799      311799          6236        114           6      114         6   \n",
       "\n",
       "        Topic_ID  Percentage  \n",
       "0            715    0.161877  \n",
       "1             66    0.088050  \n",
       "2            124    0.061785  \n",
       "3            559    0.050747  \n",
       "4             72    0.025037  \n",
       "...          ...         ...  \n",
       "311795         1    0.001876  \n",
       "311796       641    0.001842  \n",
       "311797       369    0.001831  \n",
       "311798       622    0.001813  \n",
       "311799       540    0.001806  \n",
       "\n",
       "[311800 rows x 8 columns]"
      ]
     },
     "execution_count": 36,
     "metadata": {},
     "output_type": "execute_result"
    }
   ],
   "source": [
    "pd.read_excel('../../data_utils/Verse_Topic_Percentage_Verse_Lemma_with_stopWords_Removal_Mallet_20230619213542.xlsx')"
   ]
  },
  {
   "cell_type": "code",
   "execution_count": null,
   "metadata": {},
   "outputs": [],
   "source": []
  }
 ],
 "metadata": {
  "kernelspec": {
   "display_name": ".venv",
   "language": "python",
   "name": "python3"
  },
  "language_info": {
   "codemirror_mode": {
    "name": "ipython",
    "version": 3
   },
   "file_extension": ".py",
   "mimetype": "text/x-python",
   "name": "python",
   "nbconvert_exporter": "python",
   "pygments_lexer": "ipython3",
   "version": "3.10.6"
  },
  "orig_nbformat": 4
 },
 "nbformat": 4,
 "nbformat_minor": 2
}
