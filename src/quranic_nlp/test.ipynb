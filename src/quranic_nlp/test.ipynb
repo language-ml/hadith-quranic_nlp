{
 "cells": [
  {
   "cell_type": "code",
   "execution_count": 1,
   "metadata": {},
   "outputs": [
    {
     "name": "stdout",
     "output_type": "stream",
     "text": [
      "   SurahName  SurahID  Ayah  WordOrd        Word  id  uid  \\\n",
      "id                                                          \n",
      "37       حمد        1     7        1     صِرَاطَ  37   22   \n",
      "38       حمد        1     7        2  الَّذِينَ   38   23   \n",
      "39       حمد        1     7        3     أَنْعَم  39   24   \n",
      "40       حمد        1     7        4      عَلَیْ  40   25   \n",
      "41       حمد        1     7        5        هِمْ  41   25   \n",
      "42       حمد        1     7        6      غَيْرِ  42   26   \n",
      "43       حمد        1     7        7         الْ  43   27   \n",
      "44       حمد        1     7        8   مَغْضُوبِ  44   27   \n",
      "45       حمد        1     7        9      عَلَیْ  45   28   \n",
      "46       حمد        1     7       10        هِمْ  46   28   \n",
      "47       حمد        1     7       11          وَ  47   29   \n",
      "48       حمد        1     7       12         لَا  48   30   \n",
      "49       حمد        1     7       13          ال  49   31   \n",
      "50       حمد        1     7       14  ضَّالِّینَ  50   31   \n",
      "\n",
      "                                                 data  \n",
      "id                                                     \n",
      "37  Seq=\"1\" Slice=\"صِرَاطَ\" Entry=\"صِرَاطَ\" Affix=...  \n",
      "38  Seq=\"1\" Entry=\"الَّذِینَ\" Affix=\"هسته\" Pos=\"اس...  \n",
      "39  Seq=\"1\" Slice=\"أَنْعَم\" Entry=\"أَنْعَم\" Affix=...  \n",
      "40  Seq=\"1\" Entry=\"عَلَی\" Affix=\"پیشوند\" Pos=\"حرف\"...  \n",
      "41  Seq=\"2\" Entry=\"هُمْ\" Affix=\"هسته\" Pos=\"اسم\" Ca...  \n",
      "42  Seq=\"1\" Slice=\"غَيْرِ\" Entry=\"غَیْرِ\" Affix=\"ه...  \n",
      "43  Seq=\"1\" Slice=\"الْ\" Entry=\"الْ\" Affix=\"پیشوند\"...  \n",
      "44  Seq=\"2\" Slice=\"مَغْضُوبِ\" Entry=\"مَغْضُوبِ\" Af...  \n",
      "45  Seq=\"1\" Entry=\"عَلَی\" Affix=\"پیشوند\" Pos=\"حرف\"...  \n",
      "46  Seq=\"2\" Entry=\"هُمْ\" Affix=\"هسته\" Pos=\"اسم\" Ca...  \n",
      "47  Seq=\"1\" Slice=\"وَ\" Entry=\"وَ\" Affix=\"هسته\" Pos...  \n",
      "48  Seq=\"1\" Slice=\"لَا\" Entry=\"لَا\" Affix=\"هسته\" P...  \n",
      "49  Seq=\"1\" Slice=\"ال\" Entry=\"الْ\" Affix=\"پیشوند\" ...  \n",
      "50  Seq=\"2\" Slice=\"ضَّالِّینَ\" Entry=\"ضَالِّینَ\" A...  \n",
      "37 اسم\n",
      "38 اسم\n",
      "39 فعل\n",
      "40 حرف\n",
      "41 اسم\n",
      "42 اسم\n",
      "43 حرف\n",
      "44 اسم\n",
      "45 حرف\n",
      "46 اسم\n",
      "47 حرف\n",
      "48 حرف\n",
      "49 حرف\n",
      "50 اسم\n",
      "بِ اسم\n",
      "سْمِ اسم\n",
      "اللَّهِ فعل\n",
      "ال حرف\n",
      "رَّحْمَنِ اسم\n",
      "ال اسم\n",
      "رَّحِیمِ حرف\n",
      "بِسْمِ اللَّهِ الرَّحْمَنِ الرَّحِیمِ \n",
      "بِسْمِ اللَّهِ الرَّحْمَـٰنِ الرَّحِيمِ\n",
      "فاتحه\n",
      "1\n",
      "63\n",
      "['27#30', '1#3', '55#1', '41#2', '2#163', '59#22', '11#41', '12#92', '7#151', '24#20', '44#42', '6#118', '36#5', '26#191', '26#175', '26#159', '26#140', '26#122', '26#104', '26#68', '26#9', '26#217', '20#5', '19#88', '21#83', '24#10', '25#60', '15#49', '12#64', '19#93', '2#192', '4#96', '4#106', '30#5', '32#6', '9#99', '6#121', '78#37', '19#91', '22#34', '2#218', '19#85', '41#32', '22#28', '12#98', '19#96', '20#8', '19#18', '5#4', '2#64', '39#53', '22#40', '5#74', '3#157', '10#58', '52#28', '22#36', '19#78', '43#84', '50#33', '6#119', '5#98', '17#110', '19#87', '21#26', '9#27', '36#58', '49#10', '26#5', '16#18', '9#104', '7#180', '6#138', '3#129', '23#118', '7#49', '67#29', '20#109', '27#46', '19#92', '43#36', '67#28', '25#59', '19#69', '2#37', '21#112', '43#20', '24#14', '69#52', '56#96', '56#74', '11#73', '3#132', '24#5', '3#89', '42#5', '43#45', '36#15', '57#28', '48#14']\n",
      "ستايش خدا را كه پروردگار جهانيان است.\n",
      "\n"
     ]
    }
   ],
   "source": [
    "import language\n",
    "\n",
    "translation_translator = 'fa#1'\n",
    "pips = 'dep,pos,root,lemma'\n",
    "nlp = language.Pipeline(pips, translation_translator)\n",
    "\n",
    "doc = nlp('1#1')\n",
    "\n",
    "print(doc)\n",
    "print(doc._.text)\n",
    "print(doc._.surah)\n",
    "print(doc._.ayah)\n",
    "print(doc._.revelation_order)\n",
    "print(doc._.sim_ayahs)\n",
    "print(doc._.translations)\n"
   ]
  },
  {
   "cell_type": "code",
   "execution_count": 2,
   "metadata": {},
   "outputs": [
    {
     "data": {
      "text/plain": [
       "سْمِ"
      ]
     },
     "execution_count": 2,
     "metadata": {},
     "output_type": "execute_result"
    }
   ],
   "source": [
    "doc[1]"
   ]
  },
  {
   "cell_type": "code",
   "execution_count": 3,
   "metadata": {},
   "outputs": [
    {
     "name": "stdout",
     "output_type": "stream",
     "text": [
      "سْمِ\n",
      "مضاف الیه \n",
      "اللَّهِ\n",
      "\n",
      "NOUN\n",
      "LTR\n",
      "حمد\n"
     ]
    }
   ],
   "source": [
    "word=doc[1]\n",
    "print(word)\n",
    "print(word.dep_)\n",
    "print(word.head)\n",
    "print(word.lemma_)\n",
    "print(word.pos_)\n",
    "print(word._.dep_arc)\n",
    "print(word._.root)"
   ]
  },
  {
   "cell_type": "code",
   "execution_count": 4,
   "metadata": {},
   "outputs": [
    {
     "name": "stdout",
     "output_type": "stream",
     "text": [
      "   SurahName  SurahID  Ayah  WordOrd     Word  id  uid  \\\n",
      "id                                                       \n",
      "22       حمد        1     4        1  مَالِكِ  22   11   \n",
      "23       حمد        1     4        2   يَوْمِ  23   12   \n",
      "24       حمد        1     4        3       ال  24   13   \n",
      "25       حمد        1     4        4   دِّینِ  25   13   \n",
      "\n",
      "                                                 data  \n",
      "id                                                     \n",
      "22  Seq=\"1\" Slice=\"مَالِكِ\" Entry=\"مَالِکِ\" Affix=...  \n",
      "23  Seq=\"1\" Entry=\"یَوْمِ\" Affix=\"هسته\" Pos=\"اسم\" ...  \n",
      "24  Seq=\"1\" Slice=\"ال\" Entry=\"الْ\" Affix=\"پیشوند\" ...  \n",
      "25  Seq=\"2\" Slice=\"دِّینِ\" Entry=\"دِینِ\" Affix=\"هس...  \n",
      "22 اسم\n",
      "23 اسم\n",
      "24 حرف\n",
      "25 اسم\n",
      "مَالِكِ اسم\n",
      "يَوْمِ اسم\n",
      "ال حرف\n",
      "دِّینِ اسم\n",
      "مَالِكِ يَوْمِ الدِّینِ \n",
      "مَالِكِ يَوْمِ الدِّينِ\n",
      "فاتحه\n",
      "4\n",
      "63\n",
      "['82#15', '83#11', '70#26', '51#12', '56#56', '82#17', '74#46', '37#20', '82#18', '15#35', '38#78', '26#82', '109#6', '51#6', '82#9', '107#1', '95#7', '40#16', '19#15', '19#33', '61#9', '9#33', '48#28', '21#103', '6#73', '3#26', '98#5', '83#5', '39#11', '40#14', '77#12', '50#42', '77#35', '77#13', '39#2', '36#71', '74#9', '85#2', '16#52', '30#30', '42#13', '75#1', '30#43', '75#6', '40#29', '39#14', '43#77', '5#3', '86#9', '26#189', '40#65', '26#87', '38#81', '15#38', '7#51', '23#113', '23#16', '79#6', '51#13', '77#14', '37#26', '9#11', '3#24', '114#2', '82#19', '11#103', '34#40', '26#135', '25#25', '70#8', '2#193', '9#29', '19#38', '2#132', '7#14', '29#65', '8#39', '64#9', '30#14', '45#27', '10#105', '110#2', '78#17', '79#35', '83#6', '77#38', '50#34', '38#79', '15#36', '37#21', '44#40', '52#9', '56#50', '90#14', '40#32', '9#36', '80#34', '26#88', '56#86', '50#20']\n",
      "تنها تو را مى پرستيم و تنها از تو يارى مى‌جوييم.\n",
      "\n"
     ]
    }
   ],
   "source": [
    "from spacy import displacy\n",
    "import language\n",
    "import utils\n",
    "\n",
    "translation_translator = 'fa#1'\n",
    "pips = 'dep,pos,root,lemma'\n",
    "\n",
    "nlp = language.Pipeline(pips, translation_translator)\n",
    "doc = nlp('1#4')\n",
    "\n",
    "\n",
    "print(doc)\n",
    "print(doc._.text)\n",
    "print(doc._.surah)\n",
    "print(doc._.ayah)\n",
    "print(doc._.revelation_order)\n",
    "print(doc._.sim_ayahs)\n",
    "print(doc._.translations)\n",
    "\n"
   ]
  },
  {
   "cell_type": "code",
   "execution_count": 5,
   "metadata": {},
   "outputs": [
    {
     "name": "stdout",
     "output_type": "stream",
     "text": [
      "فَإِنْ تَوَلّ فَقُلْ حَسْبِیَ اللَّهُ لَا إِلَهَ إِلَّا هُوَ عَلَیْهِ تَوَکَّل وَ هُوَ رَبُّ الْعَرْشِ الْعَظِیمِ أنتَ *َوْ اْتُ \n",
      "None\n",
      "توبه (برائت)\n",
      "0\n",
      "23\n",
      "None\n",
      "None\n"
     ]
    }
   ],
   "source": [
    "from spacy import displacy\n",
    "import language\n",
    "import utils\n",
    "\n",
    "translation_translator = 'fa#1'\n",
    "pips = 'dep,pos,root,lemma'\n",
    "\n",
    "nlp = language.Pipeline(pips, translation_translator)\n",
    "doc = nlp('9#0')\n",
    "\n",
    "\n",
    "print(doc)\n",
    "print(doc._.text)\n",
    "print(doc._.surah)\n",
    "print(doc._.ayah)\n",
    "print(doc._.revelation_order)\n",
    "print(doc._.sim_ayahs)\n",
    "print(doc._.translations)\n",
    "\n"
   ]
  },
  {
   "cell_type": "code",
   "execution_count": 6,
   "metadata": {},
   "outputs": [],
   "source": [
    "\n",
    "# displacy.serve(doc, style=\"dep\")\n",
    "# options = {\"compact\": True, \"bg\": \"#09a3d5\",\n",
    "#            \"color\": \"white\", \"font\": \"xb-niloofar\"}\n",
    "# displacy.serve(doc, style=\"dep\", options=options)"
   ]
  },
  {
   "cell_type": "code",
   "execution_count": null,
   "metadata": {},
   "outputs": [],
   "source": []
  }
 ],
 "metadata": {
  "kernelspec": {
   "display_name": ".venv",
   "language": "python",
   "name": "python3"
  },
  "language_info": {
   "codemirror_mode": {
    "name": "ipython",
    "version": 3
   },
   "file_extension": ".py",
   "mimetype": "text/x-python",
   "name": "python",
   "nbconvert_exporter": "python",
   "pygments_lexer": "ipython3",
   "version": "3.10.6"
  },
  "orig_nbformat": 4
 },
 "nbformat": 4,
 "nbformat_minor": 2
}
